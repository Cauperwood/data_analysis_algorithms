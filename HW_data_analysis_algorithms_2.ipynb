{
 "cells": [
  {
   "cell_type": "code",
   "execution_count": 1,
   "metadata": {},
   "outputs": [],
   "source": [
    "import numpy as np\n",
    "from sklearn import datasets\n",
    "import matplotlib.pyplot as plt\n",
    "from sklearn.linear_model import Lasso\n",
    "from sklearn.linear_model import Ridge\n",
    "\n",
    "%matplotlib inline\n",
    "\n",
    "\n",
    "# generate regression dataset\n",
    "#X, y = make_regression(n_samples=100, n_features=4, noise=5)\n",
    "# plot regression dataset\n",
    "#pyplot.scatter(X,y)\n",
    "#pyplot.show()"
   ]
  },
  {
   "cell_type": "markdown",
   "metadata": {},
   "source": [
    "Сгенерировать датасет при помощи sklearn.datasets.make_regression и обучить линейную модель при помощи градиентного и стохастического градиентного спуска. Нанести среднеквадратичную ошибку для обоих методов на один график, сделать выводы о разнице скорости сходимости каждого из методов."
   ]
  },
  {
   "cell_type": "code",
   "execution_count": 2,
   "metadata": {},
   "outputs": [],
   "source": [
    "data, target, coef = datasets.make_regression(n_samples=1000, n_features = 4, n_informative = 4, n_targets = 1, \n",
    "                                              noise = 6, coef = True, random_state = 5)"
   ]
  },
  {
   "cell_type": "code",
   "execution_count": 3,
   "metadata": {},
   "outputs": [
    {
     "data": {
      "text/plain": [
       "array([23.1850338 , 25.26900218, 53.95649415, 10.61078769])"
      ]
     },
     "execution_count": 3,
     "metadata": {},
     "output_type": "execute_result"
    }
   ],
   "source": [
    "coef"
   ]
  },
  {
   "cell_type": "code",
   "execution_count": 4,
   "metadata": {},
   "outputs": [
    {
     "data": {
      "text/plain": [
       "(1000, 4)"
      ]
     },
     "execution_count": 4,
     "metadata": {},
     "output_type": "execute_result"
    }
   ],
   "source": [
    "data.shape"
   ]
  },
  {
   "cell_type": "code",
   "execution_count": 25,
   "metadata": {},
   "outputs": [],
   "source": [
    "# Отмасштабируем получившиеся признаки методом стандартизации.\n",
    "\n",
    "means = np.mean(data, axis=0)\n",
    "stds = np.std(data, axis=0)\n",
    "\n",
    "# вычтем каждое значение признака из среднего и поделим на стандартное отклонение\n",
    "for i in range(data.shape[0]):\n",
    "    for j in range(data.shape[1]):\n",
    "        data[i][j] = (data[i][j] - means[j])/stds[j]"
   ]
  },
  {
   "cell_type": "code",
   "execution_count": 26,
   "metadata": {},
   "outputs": [],
   "source": [
    "# шаг градиентного спуска\n",
    "eta = 0.1\n",
    "\n",
    "# максимальное число итераций\n",
    "max_iter = 1e4\n",
    "\n",
    "# критерий сходимости (разница весов, при которой алгоритм останавливается)\n",
    "min_weight_dist = 0.001\n"
   ]
  },
  {
   "cell_type": "code",
   "execution_count": 27,
   "metadata": {},
   "outputs": [],
   "source": [
    "def mserror(X, w, y_pred):\n",
    "    y = X.dot(w)\n",
    "    return (sum((y - y_pred)**2)) / len(y)"
   ]
  },
  {
   "cell_type": "markdown",
   "metadata": {},
   "source": [
    "Градиентный спуск"
   ]
  },
  {
   "cell_type": "code",
   "execution_count": 28,
   "metadata": {},
   "outputs": [
    {
     "name": "stdout",
     "output_type": "stream",
     "text": [
      "В случае использования градиентного спуска функционал ошибки составляет 38.4867, количество итераций 100\n"
     ]
    }
   ],
   "source": [
    "# максимальное число итераций\n",
    "max_iter_1 = 1e2\n",
    "\n",
    "# возьмем нулевые начальные веса\n",
    "w_1 = np.zeros(data.shape[1])\n",
    "\n",
    "# зададим начальную разницу весов большим числом\n",
    "weight_dist_1 = np.inf\n",
    "\n",
    "# список векторов весов после каждой итерации\n",
    "w_list_1 = [w_1.copy()]\n",
    "\n",
    "# список значений ошибок после каждой итерации\n",
    "errors_1 = []\n",
    "\n",
    "# счетчик итераций\n",
    "iter_num_1 = 0\n",
    "\n",
    "# ход градиентного спуска\n",
    "while weight_dist_1 > min_weight_dist or iter_num_1 < max_iter_1:\n",
    "    new_w_1 = w_1 - 2 * eta * np.dot(data.T, (np.dot(data, w_1) - target)) / target.shape[0]\n",
    "    weight_dist_1 = np.linalg.norm(new_w_1 - w_1, ord=2)\n",
    "    \n",
    "    w_list_1.append(new_w_1.copy())\n",
    "    errors_1.append(mserror(data, new_w_1, target))\n",
    "    \n",
    "    iter_num_1 += 1\n",
    "    w_1 = new_w_1\n",
    "    \n",
    "w_list_1 = np.array(w_list_1)\n",
    "\n",
    "print(f'В случае использования градиентного спуска функционал ошибки составляет {round(errors_1[-1], 4)}, количество итераций {iter_num_1}')"
   ]
  },
  {
   "cell_type": "markdown",
   "metadata": {},
   "source": [
    "Стохастический градиентный спуск"
   ]
  },
  {
   "cell_type": "code",
   "execution_count": 29,
   "metadata": {},
   "outputs": [
    {
     "name": "stdout",
     "output_type": "stream",
     "text": [
      "В случае использования стохастического градиентного спуска функционал ошибки составляет 38.4877, количество итераций 100003\n"
     ]
    }
   ],
   "source": [
    "# максимальное число итераций\n",
    "max_iter_2 = 1e5\n",
    "\n",
    "# возьмем нулевые начальные веса\n",
    "w_2 = np.zeros(data.shape[1])\n",
    "\n",
    "# зададим начальную разницу весов большим числом\n",
    "weight_dist_2 = np.inf\n",
    "\n",
    "# список векторов весов после каждой итерации\n",
    "w_list_2 = [w_2.copy()]\n",
    "\n",
    "# список значений ошибок после каждой итерации\n",
    "errors_2 = []\n",
    "\n",
    "# счетчик итераций\n",
    "iter_num_2 = 0\n",
    "\n",
    "#np.random.seed(1234)\n",
    "\n",
    "# ход градиентного спуска\n",
    "while weight_dist_2 > min_weight_dist or iter_num_2 < max_iter_2:\n",
    "    \n",
    "    # генерируем случайный индекс объекта выборки\n",
    "    train_ind = np.random.randint(data.shape[0])\n",
    "    \n",
    "    new_w_2 = w_2 - 2 * eta * np.dot(data[train_ind].T, (np.dot(data[train_ind], w_2) - target[train_ind])) / target.shape[0]\n",
    "\n",
    "    weight_dist_2 = np.linalg.norm(new_w_2 - w_2, ord=2)\n",
    "    \n",
    "    w_list_2.append(new_w_2.copy())\n",
    "    errors_2.append(mserror(data, new_w_2, target))\n",
    "    \n",
    "    iter_num_2 += 1\n",
    "    w_2 = new_w_2\n",
    "    \n",
    "w_list_2 = np.array(w_list_2)\n",
    "\n",
    "print(f'В случае использования стохастического градиентного спуска функционал ошибки составляет {round(errors_2[-1], 4)}, количество итераций {iter_num_2}')"
   ]
  },
  {
   "cell_type": "code",
   "execution_count": 30,
   "metadata": {},
   "outputs": [
    {
     "data": {
      "image/png": "[encoded data removed]",
      "text/plain": [
       "<Figure size 936x432 with 1 Axes>"
      ]
     },
     "metadata": {
      "needs_background": "light"
     },
     "output_type": "display_data"
    }
   ],
   "source": [
    "plt.figure(figsize=(13, 6))\n",
    "plt.title('Stochastic gradient descent vs Gradient descent')\n",
    "plt.xlabel(r'$w_1$')\n",
    "plt.ylabel(r'$w_2$')\n",
    "\n",
    "plt.scatter(w_list_1[:, 0], w_list_1[:, 1], c='g')\n",
    "plt.scatter(w_list_2[:, 0], w_list_2[:, 1], c='b')\n",
    "plt.scatter(coef[0], coef[1], c='r')\n",
    "plt.plot(w_list_1[:, 0], w_list_1[:, 1])\n",
    "plt.plot(w_list_2[:, 0], w_list_2[:, 1])\n",
    "\n",
    "plt.show()"
   ]
  },
  {
   "cell_type": "code",
   "execution_count": 31,
   "metadata": {},
   "outputs": [
    {
     "data": {
      "text/plain": [
       "Text(0, 0.5, 'MSE')"
      ]
     },
     "execution_count": 31,
     "metadata": {},
     "output_type": "execute_result"
    },
    {
     "data": {
      "image/png": "[encoded data removed]",
      "text/plain": [
       "<Figure size 432x288 with 1 Axes>"
      ]
     },
     "metadata": {
      "needs_background": "light"
     },
     "output_type": "display_data"
    }
   ],
   "source": [
    "plt.plot(range(len(errors_1)), errors_1)\n",
    "plt.plot(range(len(errors_2)), errors_2)\n",
    "plt.title('MSE  Stochastic gradient descent vs Gradient descent')\n",
    "plt.xlabel('Iteration number')\n",
    "plt.ylabel('MSE')"
   ]
  },
  {
   "cell_type": "markdown",
   "metadata": {},
   "source": [
    "Вывод: для данной модели скорость сходимости стохастического градиентного спуска по сравнению с градиентным спуском значительно ниже."
   ]
  },
  {
   "cell_type": "markdown",
   "metadata": {},
   "source": [
    "Модифицировать решение первого задания путем добавления  𝐿2 -регуляризации (в функцию, считающую MSE, нужно добавить норму вектора весов) и сравнить результаты."
   ]
  },
  {
   "cell_type": "code",
   "execution_count": 12,
   "metadata": {},
   "outputs": [
    {
     "name": "stdout",
     "output_type": "stream",
     "text": [
      "[23.51370817 26.48572239 54.22617994 10.47280149]\n"
     ]
    }
   ],
   "source": [
    "ridge = Ridge(alpha=0.1)\n",
    "ridge.fit(data, target)\n",
    "print(ridge.coef_)"
   ]
  },
  {
   "cell_type": "code",
   "execution_count": 13,
   "metadata": {},
   "outputs": [
    {
     "name": "stdout",
     "output_type": "stream",
     "text": [
      "[23.41491158 26.38738507 54.14509669 10.36896877]\n"
     ]
    }
   ],
   "source": [
    "lasso = Lasso(alpha=0.1)\n",
    "lasso.fit(data, target)\n",
    "print(lasso.coef_)"
   ]
  },
  {
   "cell_type": "code",
   "execution_count": null,
   "metadata": {},
   "outputs": [],
   "source": [
    "def mserror(X, w, y_pred):\n",
    "    L2w = w + np.linalg.norm(w)\n",
    "    y = X.dot(L2w)\n",
    "    return (sum((y - y_pred)**2)) / len(y)"
   ]
  },
  {
   "cell_type": "code",
   "execution_count": null,
   "metadata": {},
   "outputs": [],
   "source": []
  }
 ],
 "metadata": {
  "kernelspec": {
   "display_name": "Python 3",
   "language": "python",
   "name": "python3"
  },
  "language_info": {
   "codemirror_mode": {
    "name": "ipython",
    "version": 3
   },
   "file_extension": ".py",
   "mimetype": "text/x-python",
   "name": "python",
   "nbconvert_exporter": "python",
   "pygments_lexer": "ipython3",
   "version": "3.7.6"
  }
 },
 "nbformat": 4,
 "nbformat_minor": 4
}
